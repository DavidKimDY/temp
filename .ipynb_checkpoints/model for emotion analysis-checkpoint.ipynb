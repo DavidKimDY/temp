{
 "cells": [
  {
   "cell_type": "code",
   "execution_count": 9,
   "metadata": {},
   "outputs": [],
   "source": [
    "import tensorflow as tf\n",
    "import numpy as np\n",
    "import pandas as pd\n",
    "import json\n",
    "import matplotlib.pyplot as plt\n",
    "from tensorflow.keras.callbacks import EarlyStopping, ModelCheckpoint\n",
    "from tensorflow.keras.activations import relu, sigmoid\n",
    "from tensorflow.keras.constraints import MaxNorm\n",
    "from tensorflow.keras.optimizers import Adam\n",
    "from tensorflow.keras.losses import BinaryCrossentropy\n",
    "from tensorflow.keras.metrics import BinaryAccuracy\n",
    "from tensorflow.keras import layers\n",
    "\n",
    "\n",
    "TRAIN_INPUTS = 'train_inputs.npy'\n",
    "TRAIN_LABELS = 'train_labels.npy'\n",
    "TEST_INPUTS  = 'test_inputs.npy'\n",
    "TEST_LABELS  = 'test_labels.npy'\n",
    "DATA_CONFIGS = 'data_configs.json'\n",
    "\n",
    "\n",
    "train_inputs  = np.load(open(TRAIN_INPUTS, 'rb'))\n",
    "train_labels = np.load(open(TRAIN_LABELS, 'rb'))\n",
    "test_inputs = np.load(open(TEST_INPUTS, 'rb'))\n",
    "test_labels = np.load(open(TEST_LABELS, 'rb'))\n",
    "data_configs = json.load(open(DATA_CONFIGS, 'r'))"
   ]
  },
  {
   "cell_type": "code",
   "execution_count": 10,
   "metadata": {},
   "outputs": [],
   "source": [
    "model_name = 'cnn_classifer_kr'\n",
    "BATCH_SIZE = 200\n",
    "EPOCHS = 2\n",
    "VALID_SPLIT = 0.1\n",
    "MAX_LEN = train_inputs.shape[1]\n",
    "\n",
    "kargs1 = {'model_name':model_name, \n",
    "         'vocab_size':data_configs['vocab_size'],\n",
    "         'embedding_size' : 128, \n",
    "         'num_filters':100,\n",
    "         'dropout_rate':0.5, \n",
    "         'hidden_dimension':250,\n",
    "         'output_dimension':1\n",
    "        }\n",
    "\n",
    "kargs = {'model_name':model_name, \n",
    "         'vocab_size':data_configs['vocab_size'],\n",
    "         'embedding_size' : 128, \n",
    "         'num_filters':100,\n",
    "         'dropout_rate':0.5, \n",
    "         'lstm_dimension':150,\n",
    "         'dense_dimension':150,\n",
    "         'output_dimension':1\n",
    "        }\n",
    "\n",
    "\n",
    "class CNNClassifier(tf.keras.Model):\n",
    "    def __init__(self, **kargs):\n",
    "        super(CNNClassifier, self).__init__(name=kargs['model_name'])\n",
    "        self.embedding = layers.Embedding(input_dim=kargs['vocab_size'],\n",
    "                                         output_dim=kargs['embedding_size']\n",
    "                                         )\n",
    "        self.conv_list = [layers.Conv1D(filters=kargs['num_filters'],\n",
    "                                        kernel_size=kernel_size,\n",
    "                                        padding='valid',\n",
    "                                        activation=relu,\n",
    "                                        kernel_constraint=MaxNorm(max_value=3.)) for kernel_size in [3,4,5]\n",
    "                         ]\n",
    "        self.pooling = layers.GlobalAveragePooling1D()\n",
    "        self.dropout = layers.Dropout(kargs['dropout_rate'])\n",
    "        \n",
    "        self.fc1 = layers.Dense(units=kargs['hidden_dimension'],\n",
    "                                activation=relu,\n",
    "                                kernel_constraint=MaxNorm(max_value=3.)\n",
    "                               )\n",
    "        self.fc2 = layers.Dense(units=kargs['output_dimension'],\n",
    "                                activation=sigmoid,\n",
    "                                kernel_constraint=MaxNorm(max_value=3.)\n",
    "                               )\n",
    "        \n",
    "    def call(self, x):\n",
    "        x = self.embedding(x)\n",
    "        x = self.dropout(x)\n",
    "        x = tf.concat([self.pooling(conv(x)) for conv in self.conv_list], axis=-1)\n",
    "        x = self.fc1(x)\n",
    "        x = self.fc2(x)\n",
    "        \n",
    "        return x\n",
    "    \n",
    "class RNN(tf.keras.Model):\n",
    "    def __init__(self, **kargs):\n",
    "        super(RNN, self).__init__(name=kargs['model_name'])\n",
    "        self.embedding = layers.Embedding(input_dim=kargs['vocab_size'],\n",
    "                                          output_dim=kargs['embedding_size']\n",
    "                                         )\n",
    "        self.lstm_1 = layers.LSTM(kargs['lstm_dimesion', return_])"
   ]
  },
  {
   "cell_type": "code",
   "execution_count": 11,
   "metadata": {},
   "outputs": [],
   "source": [
    "model = CNNClassifier(**kargs1)\n",
    "model.compile(optimizer=Adam(),\n",
    "              loss=BinaryCrossentropy())\n",
    "\n",
    "              #metrics=[BinaryAccuracy(name='accuracy')]\n",
    "            "
   ]
  },
  {
   "cell_type": "code",
   "execution_count": null,
   "metadata": {},
   "outputs": [
    {
     "name": "stdout",
     "output_type": "stream",
     "text": [
      "Train on 5 samples\n"
     ]
    }
   ],
   "source": [
    "model.fit(train_inputs[:5,:], train_labels[:5])"
   ]
  },
  {
   "cell_type": "code",
   "execution_count": null,
   "metadata": {},
   "outputs": [],
   "source": []
  }
 ],
 "metadata": {
  "kernelspec": {
   "display_name": "Python 3",
   "language": "python",
   "name": "python3"
  },
  "language_info": {
   "codemirror_mode": {
    "name": "ipython",
    "version": 3
   },
   "file_extension": ".py",
   "mimetype": "text/x-python",
   "name": "python",
   "nbconvert_exporter": "python",
   "pygments_lexer": "ipython3",
   "version": "3.7.9"
  }
 },
 "nbformat": 4,
 "nbformat_minor": 4
}
