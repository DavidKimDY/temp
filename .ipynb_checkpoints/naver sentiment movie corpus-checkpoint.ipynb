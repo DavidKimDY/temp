{
 "cells": [
  {
   "cell_type": "code",
   "execution_count": 6,
   "metadata": {},
   "outputs": [
    {
     "name": "stdout",
     "output_type": "stream",
     "text": [
      "파일 크기 : \n",
      "ratings.txt                   19.52MB\n"
     ]
    }
   ],
   "source": [
    "import numpy as np\n",
    "import pandas as pd\n",
    "import os\n",
    "import matplotlib.pyplot as plt\n",
    "import seaborn as sns\n",
    "from tqdm import tqdm\n",
    "%matplotlib inline\n",
    "\n",
    "path = '/Users/daeyeop/Work/KBS Drama project/Data/Sentiment data/'\n",
    "\n",
    "print('파일 크기 : ')\n",
    "for file in os.listdir():\n",
    "    if 'txt' in file:\n",
    "        print(file.ljust(30) + str(round(os.path.getsize(file) / 1000000, 2)) + 'MB')"
   ]
  },
  {
   "cell_type": "code",
   "execution_count": null,
   "metadata": {
    "collapsed": true
   },
   "outputs": [],
   "source": []
  },
  {
   "cell_type": "code",
   "execution_count": 7,
   "metadata": {},
   "outputs": [],
   "source": [
    "train_data = pd.read_csv(path + 'ratings_train.txt', header=0, delimiter= '\\t', quoting=3)\n",
    "test_data = pd.read_csv(path + 'ratings_test.txt', header=0, delimiter='\\t',quoting=3)"
   ]
  },
  {
   "cell_type": "code",
   "execution_count": 3,
   "metadata": {},
   "outputs": [
    {
     "data": {
      "text/html": [
       "<div>\n",
       "<style scoped>\n",
       "    .dataframe tbody tr th:only-of-type {\n",
       "        vertical-align: middle;\n",
       "    }\n",
       "\n",
       "    .dataframe tbody tr th {\n",
       "        vertical-align: top;\n",
       "    }\n",
       "\n",
       "    .dataframe thead th {\n",
       "        text-align: right;\n",
       "    }\n",
       "</style>\n",
       "<table border=\"1\" class=\"dataframe\">\n",
       "  <thead>\n",
       "    <tr style=\"text-align: right;\">\n",
       "      <th></th>\n",
       "      <th>id</th>\n",
       "      <th>document</th>\n",
       "      <th>label</th>\n",
       "    </tr>\n",
       "  </thead>\n",
       "  <tbody>\n",
       "    <tr>\n",
       "      <th>0</th>\n",
       "      <td>9976970</td>\n",
       "      <td>아 더빙.. 진짜 짜증나네요 목소리</td>\n",
       "      <td>0</td>\n",
       "    </tr>\n",
       "    <tr>\n",
       "      <th>1</th>\n",
       "      <td>3819312</td>\n",
       "      <td>흠...포스터보고 초딩영화줄....오버연기조차 가볍지 않구나</td>\n",
       "      <td>1</td>\n",
       "    </tr>\n",
       "    <tr>\n",
       "      <th>2</th>\n",
       "      <td>10265843</td>\n",
       "      <td>너무재밓었다그래서보는것을추천한다</td>\n",
       "      <td>0</td>\n",
       "    </tr>\n",
       "    <tr>\n",
       "      <th>3</th>\n",
       "      <td>9045019</td>\n",
       "      <td>교도소 이야기구먼 ..솔직히 재미는 없다..평점 조정</td>\n",
       "      <td>0</td>\n",
       "    </tr>\n",
       "    <tr>\n",
       "      <th>4</th>\n",
       "      <td>6483659</td>\n",
       "      <td>사이몬페그의 익살스런 연기가 돋보였던 영화!스파이더맨에서 늙어보이기만 했던 커스틴 ...</td>\n",
       "      <td>1</td>\n",
       "    </tr>\n",
       "    <tr>\n",
       "      <th>...</th>\n",
       "      <td>...</td>\n",
       "      <td>...</td>\n",
       "      <td>...</td>\n",
       "    </tr>\n",
       "    <tr>\n",
       "      <th>149995</th>\n",
       "      <td>6222902</td>\n",
       "      <td>인간이 문제지.. 소는 뭔죄인가..</td>\n",
       "      <td>0</td>\n",
       "    </tr>\n",
       "    <tr>\n",
       "      <th>149996</th>\n",
       "      <td>8549745</td>\n",
       "      <td>평점이 너무 낮아서...</td>\n",
       "      <td>1</td>\n",
       "    </tr>\n",
       "    <tr>\n",
       "      <th>149997</th>\n",
       "      <td>9311800</td>\n",
       "      <td>이게 뭐요? 한국인은 거들먹거리고 필리핀 혼혈은 착하다?</td>\n",
       "      <td>0</td>\n",
       "    </tr>\n",
       "    <tr>\n",
       "      <th>149998</th>\n",
       "      <td>2376369</td>\n",
       "      <td>청춘 영화의 최고봉.방황과 우울했던 날들의 자화상</td>\n",
       "      <td>1</td>\n",
       "    </tr>\n",
       "    <tr>\n",
       "      <th>149999</th>\n",
       "      <td>9619869</td>\n",
       "      <td>한국 영화 최초로 수간하는 내용이 담긴 영화</td>\n",
       "      <td>0</td>\n",
       "    </tr>\n",
       "  </tbody>\n",
       "</table>\n",
       "<p>150000 rows × 3 columns</p>\n",
       "</div>"
      ],
      "text/plain": [
       "              id                                           document  label\n",
       "0        9976970                                아 더빙.. 진짜 짜증나네요 목소리      0\n",
       "1        3819312                  흠...포스터보고 초딩영화줄....오버연기조차 가볍지 않구나      1\n",
       "2       10265843                                  너무재밓었다그래서보는것을추천한다      0\n",
       "3        9045019                      교도소 이야기구먼 ..솔직히 재미는 없다..평점 조정      0\n",
       "4        6483659  사이몬페그의 익살스런 연기가 돋보였던 영화!스파이더맨에서 늙어보이기만 했던 커스틴 ...      1\n",
       "...          ...                                                ...    ...\n",
       "149995   6222902                                인간이 문제지.. 소는 뭔죄인가..      0\n",
       "149996   8549745                                      평점이 너무 낮아서...      1\n",
       "149997   9311800                    이게 뭐요? 한국인은 거들먹거리고 필리핀 혼혈은 착하다?      0\n",
       "149998   2376369                        청춘 영화의 최고봉.방황과 우울했던 날들의 자화상      1\n",
       "149999   9619869                           한국 영화 최초로 수간하는 내용이 담긴 영화      0\n",
       "\n",
       "[150000 rows x 3 columns]"
      ]
     },
     "execution_count": 3,
     "metadata": {},
     "output_type": "execute_result"
    }
   ],
   "source": [
    "train_data"
   ]
  },
  {
   "cell_type": "code",
   "execution_count": 12,
   "metadata": {},
   "outputs": [
    {
     "data": {
      "text/plain": [
       "0         19\n",
       "1         33\n",
       "2         17\n",
       "3         29\n",
       "4         61\n",
       "          ..\n",
       "149995    19\n",
       "149996    13\n",
       "149997    31\n",
       "149998    27\n",
       "149999    24\n",
       "Name: document, Length: 150000, dtype: int64"
      ]
     },
     "execution_count": 12,
     "metadata": {},
     "output_type": "execute_result"
    }
   ],
   "source": [
    "train_length = train_data['document'].astype(str).apply(len)\n",
    "train_length"
   ]
  },
  {
   "cell_type": "code",
   "execution_count": 13,
   "metadata": {},
   "outputs": [
    {
     "data": {
      "image/png": "[encoded data removed]",
      "text/plain": [
       "<Figure size 864x576 with 1 Axes>"
      ]
     },
     "metadata": {
      "needs_background": "light"
     },
     "output_type": "display_data"
    }
   ],
   "source": [
    "plt.figure(figsize=(12,8))\n",
    "plt.hist(train_length, bins=200, alpha=0.5, color='r')\n",
    "plt.yscale('log')\n",
    "plt.show()"
   ]
  },
  {
   "cell_type": "code",
   "execution_count": 14,
   "metadata": {},
   "outputs": [],
   "source": [
    "import re\n",
    "import json\n",
    "from konlpy.tag import Okt\n",
    "\n",
    "from tensorflow.keras.preprocessing.sequence import pad_sequences\n",
    "from tensorflow.keras.preprocessing.text import Tokenizer"
   ]
  },
  {
   "cell_type": "code",
   "execution_count": 15,
   "metadata": {},
   "outputs": [
    {
     "data": {
      "text/plain": [
       "0                                  아 더빙.. 진짜 짜증나네요 목소리\n",
       "1                    흠...포스터보고 초딩영화줄....오버연기조차 가볍지 않구나\n",
       "2                                    너무재밓었다그래서보는것을추천한다\n",
       "3                        교도소 이야기구먼 ..솔직히 재미는 없다..평점 조정\n",
       "4    사이몬페그의 익살스런 연기가 돋보였던 영화!스파이더맨에서 늙어보이기만 했던 커스틴 ...\n",
       "Name: document, dtype: object"
      ]
     },
     "execution_count": 15,
     "metadata": {},
     "output_type": "execute_result"
    }
   ],
   "source": [
    "train_data['document'][:5]"
   ]
  },
  {
   "cell_type": "code",
   "execution_count": 16,
   "metadata": {},
   "outputs": [],
   "source": [
    "review_text = re.sub(\"[^가-힣ㄱ-ㅎㅏ-ㅣ\\\\s]\", \"\", train_data['document'][0])"
   ]
  },
  {
   "cell_type": "code",
   "execution_count": 17,
   "metadata": {},
   "outputs": [
    {
     "data": {
      "text/plain": [
       "'아 더빙 진짜 짜증나네요 목소리'"
      ]
     },
     "execution_count": 17,
     "metadata": {},
     "output_type": "execute_result"
    }
   ],
   "source": [
    "review_text"
   ]
  },
  {
   "cell_type": "code",
   "execution_count": 18,
   "metadata": {},
   "outputs": [],
   "source": [
    "from konlpy.tag import Okt\n",
    "okt = Okt()"
   ]
  },
  {
   "cell_type": "code",
   "execution_count": 19,
   "metadata": {},
   "outputs": [
    {
     "data": {
      "text/plain": [
       "['아', '더빙', '진짜', '짜증나다', '목소리']"
      ]
     },
     "execution_count": 19,
     "metadata": {},
     "output_type": "execute_result"
    }
   ],
   "source": [
    "review_text = okt.morphs(review_text, stem=True)\n",
    "review_text"
   ]
  },
  {
   "cell_type": "code",
   "execution_count": 20,
   "metadata": {},
   "outputs": [
    {
     "data": {
      "text/plain": [
       "['더빙', '진짜', '짜증나다', '목소리']"
      ]
     },
     "execution_count": 20,
     "metadata": {},
     "output_type": "execute_result"
    }
   ],
   "source": [
    "stop_words = set(['은', '는', '이', '가', '하', '아', '것', '들', '의', '있', '되', '수', '보', '주', '등', '한'])\n",
    "clean_review = [token for token in review_text if token not in stop_words]\n",
    "clean_review"
   ]
  },
  {
   "cell_type": "markdown",
   "metadata": {},
   "source": [
    "# Preprocess"
   ]
  },
  {
   "cell_type": "code",
   "execution_count": 21,
   "metadata": {},
   "outputs": [],
   "source": [
    "def preprocessing(review, okt, stop_words = False):\n",
    "    text = re.sub(\"[^가-힣ㄱ-ㅎㅏ-ㅣ\\\\s]\", \"\", review)\n",
    "    tokens = okt.morphs(text, stem=True)\n",
    "    if stop_words:\n",
    "        tokens = [token for token in tokens if token not in stop_words]\n",
    "    return tokens\n",
    "\n",
    "def clean_tokens(reviews):\n",
    "    clean_tokens = []\n",
    "    for i in tqdm(reviews):\n",
    "        if type(i) == str:\n",
    "            tokens = preprocessing(i, okt, stop_words)\n",
    "        else:\n",
    "            tokens = []\n",
    "        clean_tokens.append(tokens)\n",
    "    return clean_tokens\n",
    "    "
   ]
  },
  {
   "cell_type": "code",
   "execution_count": 22,
   "metadata": {},
   "outputs": [
    {
     "name": "stderr",
     "output_type": "stream",
     "text": [
      "100%|██████████| 150000/150000 [10:13<00:00, 244.56it/s]\n",
      "100%|██████████| 50000/50000 [04:12<00:00, 197.77it/s]\n"
     ]
    }
   ],
   "source": [
    "TRAIN_DATA = train_data['document']\n",
    "TEST_DATA = test_data['document']\n",
    "MAX_SEQUENCE_LENGTH = 8\n",
    "    \n",
    "clean_train_review = clean_tokens(TRAIN_DATA)\n",
    "clean_test_review = clean_tokens(TEST_DATA)"
   ]
  },
  {
   "cell_type": "markdown",
   "metadata": {},
   "source": [
    "### Tokenizing, making sequence, preparing train and test data"
   ]
  },
  {
   "cell_type": "code",
   "execution_count": 23,
   "metadata": {},
   "outputs": [],
   "source": [
    "tokenizer = Tokenizer()\n",
    "tokenizer.fit_on_texts(clean_train_review)\n",
    "train_sequences = tokenizer.texts_to_sequences(clean_train_review)\n",
    "test_sequences = tokenizer.texts_to_sequences(clean_test_review)\n",
    "word_vocab = tokenizer.word_index\n",
    "\n",
    "train_inputs = pad_sequences(train_sequences, maxlen=MAX_SEQUENCE_LENGTH, padding='post')\n",
    "train_labels = np.array(train_data['label'])\n",
    "test_inputs = pad_sequences(test_sequences, maxlen=MAX_SEQUENCE_LENGTH, padding='post')\n",
    "test_lables = np.array(test_data['label'])\n",
    "\n",
    "data_configs = {}\n",
    "data_configs['vocab'] = word_vocab\n",
    "data_configs['vocab_size'] = len(word_vocab) +1\n",
    "\n",
    "TRAIN_INPUTS = path + 'train_inputs.npy'\n",
    "TRAIN_LABELS = path + 'train_labels.npy'\n",
    "TEST_INPUTS  = path + 'test_inputs.npy'\n",
    "TEST_LABELS  = path + 'test_labels.npy'\n",
    "DATA_CONFIGS = path + 'data_configs.json'\n",
    "\n",
    "np.save(open(TRAIN_INPUTS, 'wb'), train_inputs)\n",
    "np.save(open(TRAIN_LABELS, 'wb'), train_labels)\n",
    "np.save(open(TEST_INPUTS,  'wb'), test_inputs)\n",
    "np.save(open(TEST_LABELS,  'wb'), test_lables)\n",
    "json.dump(data_configs, open(DATA_CONFIGS, 'w'), ensure_ascii=False)"
   ]
  },
  {
   "cell_type": "code",
   "execution_count": 24,
   "metadata": {},
   "outputs": [],
   "source": [
    "blog_text = pd.read_csv(path + 'blog_text.csv')"
   ]
  },
  {
   "cell_type": "code",
   "execution_count": 27,
   "metadata": {},
   "outputs": [
    {
     "name": "stderr",
     "output_type": "stream",
     "text": [
      "100%|██████████| 1270/1270 [00:19<00:00, 64.38it/s]\n"
     ]
    },
    {
     "ename": "TypeError",
     "evalue": "'Tokenizer' object is not callable",
     "output_type": "error",
     "traceback": [
      "\u001b[0;31m---------------------------------------------------------------------------\u001b[0m",
      "\u001b[0;31mTypeError\u001b[0m                                 Traceback (most recent call last)",
      "\u001b[0;32m<ipython-input-27-f259baaffaba>\u001b[0m in \u001b[0;36m<module>\u001b[0;34m\u001b[0m\n\u001b[1;32m      1\u001b[0m \u001b[0mBLOG_TEXT\u001b[0m \u001b[0;34m=\u001b[0m \u001b[0mblog_text\u001b[0m\u001b[0;34m[\u001b[0m\u001b[0;34m'sentence'\u001b[0m\u001b[0;34m]\u001b[0m\u001b[0;34m\u001b[0m\u001b[0;34m\u001b[0m\u001b[0m\n\u001b[1;32m      2\u001b[0m \u001b[0mclean_blog_text\u001b[0m \u001b[0;34m=\u001b[0m \u001b[0mclean_tokens\u001b[0m\u001b[0;34m(\u001b[0m\u001b[0mBLOG_TEXT\u001b[0m\u001b[0;34m)\u001b[0m\u001b[0;34m\u001b[0m\u001b[0;34m\u001b[0m\u001b[0m\n\u001b[0;32m----> 3\u001b[0;31m \u001b[0mblog_sequences\u001b[0m \u001b[0;34m=\u001b[0m \u001b[0mtokenizer\u001b[0m\u001b[0;34m(\u001b[0m\u001b[0mblog_text\u001b[0m\u001b[0;34m)\u001b[0m\u001b[0;34m\u001b[0m\u001b[0;34m\u001b[0m\u001b[0m\n\u001b[0m\u001b[1;32m      4\u001b[0m \u001b[0;34m\u001b[0m\u001b[0m\n\u001b[1;32m      5\u001b[0m \u001b[0;31m#blog_inputs -\u001b[0m\u001b[0;34m\u001b[0m\u001b[0;34m\u001b[0m\u001b[0;34m\u001b[0m\u001b[0m\n",
      "\u001b[0;31mTypeError\u001b[0m: 'Tokenizer' object is not callable"
     ]
    }
   ],
   "source": [
    "BLOG_TEXT = blog_text['sentence']\n",
    "clean_blog_text = clean_tokens(BLOG_TEXT)\n",
    "\n",
    "#blog_inputs -"
   ]
  },
  {
   "cell_type": "code",
   "execution_count": 32,
   "metadata": {},
   "outputs": [],
   "source": [
    "blog_sequences = tokenizer.texts_to_sequences(clean_blog_text)\n",
    "blog_inputs = pad_sequences(blog_sequences, maxlen=MAX_SEQUENCE_LENGTH, padding='post')\n",
    "np.save(open(path + 'BLOG_TEXT.npy', 'wb'), blog_inputs)"
   ]
  },
  {
   "cell_type": "code",
   "execution_count": 54,
   "metadata": {},
   "outputs": [],
   "source": [
    "def total_processor(data, col_name):\n",
    "    text = data[col_name]\n",
    "    clean = clean_tokens(text)\n",
    "    sequences = tokenizer.texts_to_sequences(clean)\n",
    "    inputs = pad_sequences(sequences, maxlen=MAX_SEQUENCE_LENGTH, padding='post')\n",
    "    return inputs"
   ]
  },
  {
   "cell_type": "code",
   "execution_count": 57,
   "metadata": {},
   "outputs": [
    {
     "name": "stderr",
     "output_type": "stream",
     "text": [
      "100%|██████████| 11958/11958 [01:07<00:00, 176.73it/s]\n"
     ]
    }
   ],
   "source": [
    "youtube_data = pd.read_excel(path + 'drama_comment.xlsx')\n",
    "youtube_inputs = total_processor(youtube_data, 'text')\n",
    "np.save(open('YOUTUBE_TEXT.npy', 'wb'), youtube_inputs)"
   ]
  },
  {
   "cell_type": "code",
   "execution_count": 60,
   "metadata": {
    "scrolled": true
   },
   "outputs": [
    {
     "data": {
      "text/html": [
       "<div>\n",
       "<style scoped>\n",
       "    .dataframe tbody tr th:only-of-type {\n",
       "        vertical-align: middle;\n",
       "    }\n",
       "\n",
       "    .dataframe tbody tr th {\n",
       "        vertical-align: top;\n",
       "    }\n",
       "\n",
       "    .dataframe thead th {\n",
       "        text-align: right;\n",
       "    }\n",
       "</style>\n",
       "<table border=\"1\" class=\"dataframe\">\n",
       "  <thead>\n",
       "    <tr style=\"text-align: right;\">\n",
       "      <th></th>\n",
       "      <th>drama</th>\n",
       "      <th>text</th>\n",
       "    </tr>\n",
       "  </thead>\n",
       "  <tbody>\n",
       "    <tr>\n",
       "      <th>0</th>\n",
       "      <td>(아는 건 별로 없지만) 가족입니다</td>\n",
       "      <td>얼굴  늙어감을 역행하려 애써지 않고  자연스럽게   받아들이는 마인드가 참 좋다 ...</td>\n",
       "    </tr>\n",
       "    <tr>\n",
       "      <th>1</th>\n",
       "      <td>(아는 건 별로 없지만) 가족입니다</td>\n",
       "      <td>편 봤는데 각각의 캐릭터들 대사들이 몰입되네요\\n 둘째처럼 자기중심적이고 일단 화부...</td>\n",
       "    </tr>\n",
       "    <tr>\n",
       "      <th>2</th>\n",
       "      <td>(아는 건 별로 없지만) 가족입니다</td>\n",
       "      <td>원미경씨 요즘 중년 노년 배우와 다르게 자연스럽게 나이드셔서 너무 편안하고 보기 좋...</td>\n",
       "    </tr>\n",
       "    <tr>\n",
       "      <th>3</th>\n",
       "      <td>(아는 건 별로 없지만) 가족입니다</td>\n",
       "      <td>개인적으로 저는 첫째스타일이었다가 쌓이다 쌓여서 둘째 스타일 됐지만 그래도 약간 첫...</td>\n",
       "    </tr>\n",
       "    <tr>\n",
       "      <th>4</th>\n",
       "      <td>(아는 건 별로 없지만) 가족입니다</td>\n",
       "      <td>미경님 성형도 안한 얼굴이 아주  친근감이 드네요  자연 스럽고요</td>\n",
       "    </tr>\n",
       "    <tr>\n",
       "      <th>5</th>\n",
       "      <td>(아는 건 별로 없지만) 가족입니다</td>\n",
       "      <td>가족 입니다 이드라마\\n케미가  장난 아닌듯\\n기대가 엄청나네요</td>\n",
       "    </tr>\n",
       "    <tr>\n",
       "      <th>6</th>\n",
       "      <td>(아는 건 별로 없지만) 가족입니다</td>\n",
       "      <td>가족이 가장 가깝자고 생각하지만 가장 모르는 부분은 또 가장 모를 수 있습니다 \\n...</td>\n",
       "    </tr>\n",
       "    <tr>\n",
       "      <th>7</th>\n",
       "      <td>(아는 건 별로 없지만) 가족입니다</td>\n",
       "      <td>오프닝 타이틀</td>\n",
       "    </tr>\n",
       "    <tr>\n",
       "      <th>8</th>\n",
       "      <td>(아는 건 별로 없지만) 가족입니다</td>\n",
       "      <td>정진영이  년  생입니다\\n년 에 는살이고   년에는  세입니다   살이였다고  하...</td>\n",
       "    </tr>\n",
       "    <tr>\n",
       "      <th>9</th>\n",
       "      <td>(아는 건 별로 없지만) 가족입니다</td>\n",
       "      <td>안녕하세요 롤 오버워치 카카오배그 스팀배그 등 외 다른계정들 무료나눔하고있습니다 계...</td>\n",
       "    </tr>\n",
       "    <tr>\n",
       "      <th>10</th>\n",
       "      <td>(아는 건 별로 없지만) 가족입니다</td>\n",
       "      <td>혜정 기대된다</td>\n",
       "    </tr>\n",
       "    <tr>\n",
       "      <th>11</th>\n",
       "      <td>(아는 건 별로 없지만) 가족입니다</td>\n",
       "      <td>너무 기대하고 있어요 월 빨리 와라</td>\n",
       "    </tr>\n",
       "    <tr>\n",
       "      <th>12</th>\n",
       "      <td>(아는 건 별로 없지만) 가족입니다</td>\n",
       "      <td>기대됩니다\\n대박 나세요</td>\n",
       "    </tr>\n",
       "    <tr>\n",
       "      <th>13</th>\n",
       "      <td>(아는 건 별로 없지만) 가족입니다</td>\n",
       "      <td>신동욱배우니뮤ㅠ</td>\n",
       "    </tr>\n",
       "    <tr>\n",
       "      <th>14</th>\n",
       "      <td>(아는 건 별로 없지만) 가족입니다</td>\n",
       "      <td>재밌겠다</td>\n",
       "    </tr>\n",
       "    <tr>\n",
       "      <th>15</th>\n",
       "      <td>(아는 건 별로 없지만) 가족입니다</td>\n",
       "      <td>신현빈 아니죠</td>\n",
       "    </tr>\n",
       "    <tr>\n",
       "      <th>16</th>\n",
       "      <td>(아는 건 별로 없지만) 가족입니다</td>\n",
       "      <td>오 새드라마</td>\n",
       "    </tr>\n",
       "    <tr>\n",
       "      <th>17</th>\n",
       "      <td>(아는 건 별로 없지만) 가족입니다</td>\n",
       "      <td>김</td>\n",
       "    </tr>\n",
       "    <tr>\n",
       "      <th>18</th>\n",
       "      <td>(아는 건 별로 없지만) 가족입니다</td>\n",
       "      <td>추자현님\\n아는건 별로없지만 드라마\\n꼭 대박나세요</td>\n",
       "    </tr>\n",
       "    <tr>\n",
       "      <th>19</th>\n",
       "      <td>(아는 건 별로 없지만) 가족입니다</td>\n",
       "      <td>아아ㅏ아아 ㅜㅠ 신동욱 사랑해ㅜㅠ</td>\n",
       "    </tr>\n",
       "    <tr>\n",
       "      <th>20</th>\n",
       "      <td>(아는 건 별로 없지만) 가족입니다</td>\n",
       "      <td>원미경씨 나오네요</td>\n",
       "    </tr>\n",
       "    <tr>\n",
       "      <th>21</th>\n",
       "      <td>(아는 건 별로 없지만) 가족입니다</td>\n",
       "      <td>추자연씨 연기 잘 하는것은 모두가 다 아는사실이지만 한예리씨 연기 정말 잘하네요 내...</td>\n",
       "    </tr>\n",
       "    <tr>\n",
       "      <th>22</th>\n",
       "      <td>(아는 건 별로 없지만) 가족입니다</td>\n",
       "      <td>난 추자현 목소리가 왜이렇게 좋을까</td>\n",
       "    </tr>\n",
       "    <tr>\n",
       "      <th>23</th>\n",
       "      <td>(아는 건 별로 없지만) 가족입니다</td>\n",
       "      <td>뼈쌤 이렇게 빨리 차기작으로 돌아와줘서 고마워요오</td>\n",
       "    </tr>\n",
       "    <tr>\n",
       "      <th>24</th>\n",
       "      <td>(아는 건 별로 없지만) 가족입니다</td>\n",
       "      <td>추자현님 아름다운 세상         드라마 도 감동 으로\\n시청 했어용\\n이번 드...</td>\n",
       "    </tr>\n",
       "    <tr>\n",
       "      <th>25</th>\n",
       "      <td>(아는 건 별로 없지만) 가족입니다</td>\n",
       "      <td>이거 끝나면 신동욱 배우님 주연으로 나오는 드라마 빨리 나왔으면 좋겠다</td>\n",
       "    </tr>\n",
       "    <tr>\n",
       "      <th>26</th>\n",
       "      <td>(아는 건 별로 없지만) 가족입니다</td>\n",
       "      <td>진짜 신동욱 배우님ㅠㅠㅠㅠㅠ 차기작 이렇게 빨리 나올줄은 몰랐는데 너무 좋다 진짜ㅜㅠㅠ</td>\n",
       "    </tr>\n",
       "    <tr>\n",
       "      <th>27</th>\n",
       "      <td>(아는 건 별로 없지만) 가족입니다</td>\n",
       "      <td>한 예 리 절 대 사 랑 해</td>\n",
       "    </tr>\n",
       "    <tr>\n",
       "      <th>28</th>\n",
       "      <td>(아는 건 별로 없지만) 가족입니다</td>\n",
       "      <td>추자현 이쁘다  신동욱님 또 봐서 좋아용</td>\n",
       "    </tr>\n",
       "    <tr>\n",
       "      <th>29</th>\n",
       "      <td>(아는 건 별로 없지만) 가족입니다</td>\n",
       "      <td>예리언니 사랑해ㅠㅠ</td>\n",
       "    </tr>\n",
       "    <tr>\n",
       "      <th>30</th>\n",
       "      <td>(아는 건 별로 없지만) 가족입니다</td>\n",
       "      <td>김지석    \\n화이팅 입니다</td>\n",
       "    </tr>\n",
       "    <tr>\n",
       "      <th>31</th>\n",
       "      <td>(아는 건 별로 없지만) 가족입니다</td>\n",
       "      <td>신동욱 배우님 이렇게 빨리 차기작으로 돌아와 줘서 고마워요 이제 먾이많이 작품 하셨...</td>\n",
       "    </tr>\n",
       "    <tr>\n",
       "      <th>32</th>\n",
       "      <td>(아는 건 별로 없지만) 가족입니다</td>\n",
       "      <td>조합너무좋다 정진영원미경배우님도 너무좋고 ㅎ 주연남녀들도 훈훈하고</td>\n",
       "    </tr>\n",
       "    <tr>\n",
       "      <th>33</th>\n",
       "      <td>(아는 건 별로 없지만) 가족입니다</td>\n",
       "      <td>빨리 월 이 왔으면      추자현님\\n드라마 기대가 됩니다\\n추자현님늘 행복하세...</td>\n",
       "    </tr>\n",
       "    <tr>\n",
       "      <th>34</th>\n",
       "      <td>(아는 건 별로 없지만) 가족입니다</td>\n",
       "      <td>신동욱 배우님 너무 사랑해</td>\n",
       "    </tr>\n",
       "    <tr>\n",
       "      <th>35</th>\n",
       "      <td>(아는 건 별로 없지만) 가족입니다</td>\n",
       "      <td>신동욱님 자주 활동하셔서 너무 좋다ㅎㅎ\\n건강한 모습으로 자주 봬요</td>\n",
       "    </tr>\n",
       "    <tr>\n",
       "      <th>36</th>\n",
       "      <td>(아는 건 별로 없지만) 가족입니다</td>\n",
       "      <td>넘좋은 드라마</td>\n",
       "    </tr>\n",
       "    <tr>\n",
       "      <th>37</th>\n",
       "      <td>(아는 건 별로 없지만) 가족입니다</td>\n",
       "      <td>허ㅠㅠㅠ 운며어어유ㅠㅠㅠㅠㅠ</td>\n",
       "    </tr>\n",
       "    <tr>\n",
       "      <th>38</th>\n",
       "      <td>(아는 건 별로 없지만) 가족입니다</td>\n",
       "      <td>와우 기대됩니다원미경씨와 정진영씨 팬이에요 여기서 부부로 나오시네요 ㅋ 두분의 좋은...</td>\n",
       "    </tr>\n",
       "    <tr>\n",
       "      <th>39</th>\n",
       "      <td>(아는 건 별로 없지만) 가족입니다</td>\n",
       "      <td>신동욱 배우님 보다가 여기까지 와버렸다</td>\n",
       "    </tr>\n",
       "    <tr>\n",
       "      <th>40</th>\n",
       "      <td>(아는 건 별로 없지만) 가족입니다</td>\n",
       "      <td>한예리씨 연기 진짜 곰탕 같음자연스럽고 편안하고 진짜 생활연기 갑이심\\n젊은분이 앞...</td>\n",
       "    </tr>\n",
       "    <tr>\n",
       "      <th>41</th>\n",
       "      <td>(아는 건 별로 없지만) 가족입니다</td>\n",
       "      <td>한 예리씨  보석  같은 배우님이네요 연기 넘넘 잘하세요</td>\n",
       "    </tr>\n",
       "    <tr>\n",
       "      <th>42</th>\n",
       "      <td>(아는 건 별로 없지만) 가족입니다</td>\n",
       "      <td>ㅠㅜㅠ이종원배우님 머리카락밖에 안나오네</td>\n",
       "    </tr>\n",
       "    <tr>\n",
       "      <th>43</th>\n",
       "      <td>(아는 건 별로 없지만) 가족입니다</td>\n",
       "      <td>배우들 목소리가 너무 좋다 맘이 편안해져</td>\n",
       "    </tr>\n",
       "    <tr>\n",
       "      <th>44</th>\n",
       "      <td>(아는 건 별로 없지만) 가족입니다</td>\n",
       "      <td>깊은 울림이 있는 가족입니다 잘 봤어요감사합니다</td>\n",
       "    </tr>\n",
       "    <tr>\n",
       "      <th>45</th>\n",
       "      <td>(아는 건 별로 없지만) 가족입니다</td>\n",
       "      <td>와 이거 이렇게 흘러간다면ㅋㅋㅋㅋㅋ\\n경찰이 되어 일하다가  너무 일에 치이고 해서...</td>\n",
       "    </tr>\n",
       "    <tr>\n",
       "      <th>46</th>\n",
       "      <td>(아는 건 별로 없지만) 가족입니다</td>\n",
       "      <td>난 추자현 때문에 안본다</td>\n",
       "    </tr>\n",
       "    <tr>\n",
       "      <th>47</th>\n",
       "      <td>외출</td>\n",
       "      <td>회가 끝이였군 이래서 나는 국가가 육아기관을 만들어야 한다고 본다  어렵게 생각말고...</td>\n",
       "    </tr>\n",
       "    <tr>\n",
       "      <th>48</th>\n",
       "      <td>외출</td>\n",
       "      <td>이 드라마가 꼭 부디 딸 엄마 여자들만이 아닌 남녀노소 공감 했으면 하네요\\n드라마...</td>\n",
       "    </tr>\n",
       "    <tr>\n",
       "      <th>49</th>\n",
       "      <td>외출</td>\n",
       "      <td>대한민국 사법 족구하라 그래</td>\n",
       "    </tr>\n",
       "  </tbody>\n",
       "</table>\n",
       "</div>"
      ],
      "text/plain": [
       "                  drama                                               text\n",
       "0   (아는 건 별로 없지만) 가족입니다  얼굴  늙어감을 역행하려 애써지 않고  자연스럽게   받아들이는 마인드가 참 좋다 ...\n",
       "1   (아는 건 별로 없지만) 가족입니다  편 봤는데 각각의 캐릭터들 대사들이 몰입되네요\\n 둘째처럼 자기중심적이고 일단 화부...\n",
       "2   (아는 건 별로 없지만) 가족입니다  원미경씨 요즘 중년 노년 배우와 다르게 자연스럽게 나이드셔서 너무 편안하고 보기 좋...\n",
       "3   (아는 건 별로 없지만) 가족입니다  개인적으로 저는 첫째스타일이었다가 쌓이다 쌓여서 둘째 스타일 됐지만 그래도 약간 첫...\n",
       "4   (아는 건 별로 없지만) 가족입니다             미경님 성형도 안한 얼굴이 아주  친근감이 드네요  자연 스럽고요  \n",
       "5   (아는 건 별로 없지만) 가족입니다                가족 입니다 이드라마\\n케미가  장난 아닌듯\\n기대가 엄청나네요\n",
       "6   (아는 건 별로 없지만) 가족입니다  가족이 가장 가깝자고 생각하지만 가장 모르는 부분은 또 가장 모를 수 있습니다 \\n...\n",
       "7   (아는 건 별로 없지만) 가족입니다                                            오프닝 타이틀\n",
       "8   (아는 건 별로 없지만) 가족입니다  정진영이  년  생입니다\\n년 에 는살이고   년에는  세입니다   살이였다고  하...\n",
       "9   (아는 건 별로 없지만) 가족입니다  안녕하세요 롤 오버워치 카카오배그 스팀배그 등 외 다른계정들 무료나눔하고있습니다 계...\n",
       "10  (아는 건 별로 없지만) 가족입니다                                            혜정 기대된다\n",
       "11  (아는 건 별로 없지만) 가족입니다                                너무 기대하고 있어요 월 빨리 와라\n",
       "12  (아는 건 별로 없지만) 가족입니다                                      기대됩니다\\n대박 나세요\n",
       "13  (아는 건 별로 없지만) 가족입니다                                           신동욱배우니뮤ㅠ\n",
       "14  (아는 건 별로 없지만) 가족입니다                                               재밌겠다\n",
       "15  (아는 건 별로 없지만) 가족입니다                                            신현빈 아니죠\n",
       "16  (아는 건 별로 없지만) 가족입니다                                             오 새드라마\n",
       "17  (아는 건 별로 없지만) 가족입니다                                                  김\n",
       "18  (아는 건 별로 없지만) 가족입니다                       추자현님\\n아는건 별로없지만 드라마\\n꼭 대박나세요\n",
       "19  (아는 건 별로 없지만) 가족입니다                                 아아ㅏ아아 ㅜㅠ 신동욱 사랑해ㅜㅠ\n",
       "20  (아는 건 별로 없지만) 가족입니다                                          원미경씨 나오네요\n",
       "21  (아는 건 별로 없지만) 가족입니다  추자연씨 연기 잘 하는것은 모두가 다 아는사실이지만 한예리씨 연기 정말 잘하네요 내...\n",
       "22  (아는 건 별로 없지만) 가족입니다                               난 추자현 목소리가 왜이렇게 좋을까 \n",
       "23  (아는 건 별로 없지만) 가족입니다                        뼈쌤 이렇게 빨리 차기작으로 돌아와줘서 고마워요오\n",
       "24  (아는 건 별로 없지만) 가족입니다  추자현님 아름다운 세상         드라마 도 감동 으로\\n시청 했어용\\n이번 드...\n",
       "25  (아는 건 별로 없지만) 가족입니다            이거 끝나면 신동욱 배우님 주연으로 나오는 드라마 빨리 나왔으면 좋겠다\n",
       "26  (아는 건 별로 없지만) 가족입니다   진짜 신동욱 배우님ㅠㅠㅠㅠㅠ 차기작 이렇게 빨리 나올줄은 몰랐는데 너무 좋다 진짜ㅜㅠㅠ\n",
       "27  (아는 건 별로 없지만) 가족입니다                                    한 예 리 절 대 사 랑 해\n",
       "28  (아는 건 별로 없지만) 가족입니다                             추자현 이쁘다  신동욱님 또 봐서 좋아용\n",
       "29  (아는 건 별로 없지만) 가족입니다                                         예리언니 사랑해ㅠㅠ\n",
       "30  (아는 건 별로 없지만) 가족입니다                                   김지석    \\n화이팅 입니다\n",
       "31  (아는 건 별로 없지만) 가족입니다  신동욱 배우님 이렇게 빨리 차기작으로 돌아와 줘서 고마워요 이제 먾이많이 작품 하셨...\n",
       "32  (아는 건 별로 없지만) 가족입니다               조합너무좋다 정진영원미경배우님도 너무좋고 ㅎ 주연남녀들도 훈훈하고\n",
       "33  (아는 건 별로 없지만) 가족입니다   빨리 월 이 왔으면      추자현님\\n드라마 기대가 됩니다\\n추자현님늘 행복하세...\n",
       "34  (아는 건 별로 없지만) 가족입니다                                     신동욱 배우님 너무 사랑해\n",
       "35  (아는 건 별로 없지만) 가족입니다              신동욱님 자주 활동하셔서 너무 좋다ㅎㅎ\\n건강한 모습으로 자주 봬요\n",
       "36  (아는 건 별로 없지만) 가족입니다                                            넘좋은 드라마\n",
       "37  (아는 건 별로 없지만) 가족입니다                                    허ㅠㅠㅠ 운며어어유ㅠㅠㅠㅠㅠ\n",
       "38  (아는 건 별로 없지만) 가족입니다  와우 기대됩니다원미경씨와 정진영씨 팬이에요 여기서 부부로 나오시네요 ㅋ 두분의 좋은...\n",
       "39  (아는 건 별로 없지만) 가족입니다                              신동욱 배우님 보다가 여기까지 와버렸다\n",
       "40  (아는 건 별로 없지만) 가족입니다  한예리씨 연기 진짜 곰탕 같음자연스럽고 편안하고 진짜 생활연기 갑이심\\n젊은분이 앞...\n",
       "41  (아는 건 별로 없지만) 가족입니다                    한 예리씨  보석  같은 배우님이네요 연기 넘넘 잘하세요\n",
       "42  (아는 건 별로 없지만) 가족입니다                              ㅠㅜㅠ이종원배우님 머리카락밖에 안나오네\n",
       "43  (아는 건 별로 없지만) 가족입니다                             배우들 목소리가 너무 좋다 맘이 편안해져\n",
       "44  (아는 건 별로 없지만) 가족입니다                         깊은 울림이 있는 가족입니다 잘 봤어요감사합니다\n",
       "45  (아는 건 별로 없지만) 가족입니다  와 이거 이렇게 흘러간다면ㅋㅋㅋㅋㅋ\\n경찰이 되어 일하다가  너무 일에 치이고 해서...\n",
       "46  (아는 건 별로 없지만) 가족입니다                                      난 추자현 때문에 안본다\n",
       "47                   외출  회가 끝이였군 이래서 나는 국가가 육아기관을 만들어야 한다고 본다  어렵게 생각말고...\n",
       "48                   외출  이 드라마가 꼭 부디 딸 엄마 여자들만이 아닌 남녀노소 공감 했으면 하네요\\n드라마...\n",
       "49                   외출                                    대한민국 사법 족구하라 그래"
      ]
     },
     "execution_count": 60,
     "metadata": {},
     "output_type": "execute_result"
    }
   ],
   "source": [
    "youtube_data[:50]"
   ]
  },
  {
   "cell_type": "code",
   "execution_count": 61,
   "metadata": {},
   "outputs": [],
   "source": [
    "\n",
    "kairos_test = ['임건욱 강승윤 화이팅!!!',\n",
    "\n",
    "'이세영 언니 파이팅. 파이팅 카이로스 팀. 이세영이 울때 내 가슴이 아팠다.💛🥺🥺',\n",
    "\n",
    "'신성록 화이팅!!! 너무 기대됨',\n",
    "\n",
    "'믿고 보는 신성록 화이팅☆기대중!!!',\n",
    "\n",
    "'카이로스 화이팅!',\n",
    "\n",
    "'안보현, 도규니팀 화이팅!!!!',\n",
    "\n",
    "'쯩유님 왜케 적게 나와?ㅠㅠ1초도 안도ㅑㅠ'],"
   ]
  },
  {
   "cell_type": "code",
   "execution_count": 65,
   "metadata": {},
   "outputs": [],
   "source": [
    "k_dict = {}\n",
    "for t in kairos_test:\n",
    "    k_dict['drama'] = '카이로스'\n",
    "    k_dict['text'] = t"
   ]
  },
  {
   "cell_type": "code",
   "execution_count": 67,
   "metadata": {},
   "outputs": [],
   "source": [
    "# pd.DataFrame(k_dict).to_csv('kairos_text.csv')"
   ]
  },
  {
   "cell_type": "code",
   "execution_count": 69,
   "metadata": {},
   "outputs": [
    {
     "name": "stderr",
     "output_type": "stream",
     "text": [
      "100%|██████████| 7/7 [00:00<00:00, 836.49it/s]\n"
     ]
    }
   ],
   "source": [
    "inputs = total_processor(k_dict,'text')\n",
    "np.save(open(path + 'KAIROS.npy', 'wb'), inputs)"
   ]
  },
  {
   "cell_type": "code",
   "execution_count": null,
   "metadata": {},
   "outputs": [],
   "source": []
  }
 ],
 "metadata": {
  "kernelspec": {
   "display_name": "Python 3",
   "language": "python",
   "name": "python3"
  },
  "language_info": {
   "codemirror_mode": {
    "name": "ipython",
    "version": 3
   },
   "file_extension": ".py",
   "mimetype": "text/x-python",
   "name": "python",
   "nbconvert_exporter": "python",
   "pygments_lexer": "ipython3",
   "version": "3.7.9"
  }
 },
 "nbformat": 4,
 "nbformat_minor": 4
}
