{
 "cells": [
  {
   "cell_type": "code",
   "execution_count": 107,
   "metadata": {},
   "outputs": [],
   "source": [
    "import numpy as np\n",
    "import pandas as pd\n",
    "import json\n",
    "\n",
    "\n",
    "data = pd.read_excel('배역배우_v4.xlsx')\n",
    "kevin_mat = np.identity(len(actors))\n",
    "actor_list = np.array(list(set(data['배우'].unique())))\n",
    "\n",
    "test = np.array([\n",
    "    [1,1,0,0,0],\n",
    "    [1,1,1,0,0],\n",
    "    [0,1,1,1,0],\n",
    "    [0,0,1,1,1],\n",
    "    [0,0,0,1,1]\n",
    "])\n",
    "\n",
    "\n",
    "def kevin_bacon(metrics):\n",
    "    bacon = metrics.max()\n",
    "    for i, array in enumerate(metrics):\n",
    "        if 0 in array:\n",
    "            target = np.where(array==0)[0]\n",
    "            assist = np.where(array==1)[0]\n",
    "            for t in target:\n",
    "                if bacon in [metrics[t][a] for a in assist]:\n",
    "                    metrics[i][t] = bacon + 1\n",
    "                    metrics[t][i] = bacon + 1\n",
    "    return metrics\n",
    "\n",
    "def get_bacon(metrics):\n",
    "    \n",
    "    counter =0 \n",
    "    while 0 in metrics or counter > 20:\n",
    "        metrics = kevin_bacon(metrics)\n",
    "        counter += 1\n",
    "    print(counter)\n",
    "    return metrics\n",
    "\n",
    "def actor_coord(drama_actors):\n",
    "    coord_list = []\n",
    "    for i,_ in enumerate(drama_actors):\n",
    "        for j in drama_actors[i+1:]:\n",
    "            actor_1 = actor_to_num(drama_actors[i])\n",
    "            actor_2 = actor_to_num(j)\n",
    "            \n",
    "            coord_list.append((actor_1, actor_2))\n",
    "            \n",
    "    return coord_list\n",
    "\n",
    "def update_mat(coord_list):\n",
    "    for coord in coord_list:\n",
    "        i,j = coord\n",
    "        kevin_mat[i][j] = 1\n",
    "        kevin_mat[j][i] = 1\n",
    "    \n",
    "    return None\n",
    "        \n",
    "def actor_to_num(name):\n",
    "    num = np.where(actor_list == name)[0][0]\n",
    "    return num\n",
    "\n",
    "\n",
    "def get_bacon_dict(bacon, actor_list):\n",
    "    bacon_dict = {}\n",
    "    length = bacon.shape[0]\n",
    "    for i, actor in enumerate(actor_list):\n",
    "        value = bacon[i].sum() / length\n",
    "        bacon_dict[actor] = value\n",
    "    return bacon_dict"
   ]
  },
  {
   "cell_type": "code",
   "execution_count": 79,
   "metadata": {},
   "outputs": [],
   "source": [
    "for title in data['작품명'].unique():\n",
    "    a = data[data['작품명'] == title]['배우']\n",
    "    coord_list = actor_coord(list(a))\n",
    "    update_mat(coord_list)"
   ]
  },
  {
   "cell_type": "code",
   "execution_count": 83,
   "metadata": {},
   "outputs": [
    {
     "name": "stdout",
     "output_type": "stream",
     "text": [
      "0\n"
     ]
    }
   ],
   "source": [
    "bacon = get_bacon(kevin_mat)\n",
    "bacon_dict = get_bacon_dict(bacon, actor_list)\n",
    "\n",
    "with open('bacon_dict.json','w',encoding='utf-8') as f:\n",
    "    json.dump(bacon_dict, f, ensure_ascii= False, indent='\\t')"
   ]
  },
  {
   "cell_type": "code",
   "execution_count": 160,
   "metadata": {},
   "outputs": [
    {
     "data": {
      "image/png": "[encoded data removed]",
      "text/plain": [
       "<Figure size 432x288 with 1 Axes>"
      ]
     },
     "metadata": {
      "needs_background": "light"
     },
     "output_type": "display_data"
    }
   ],
   "source": [
    "import matplotlib.pyplot as plt\n",
    "plt.hist(bacon_dict.values(), bins=90)\n",
    "plt.show()"
   ]
  },
  {
   "cell_type": "code",
   "execution_count": 213,
   "metadata": {},
   "outputs": [
    {
     "name": "stdout",
     "output_type": "stream",
     "text": [
      "안보현 :  2.2335307179866764\n",
      "신성록 :  2.027017024426351\n",
      "이세영 :  2.0780903034789047\n"
     ]
    }
   ],
   "source": [
    "l = []\n",
    "for n in ['안보현','신성록','이세영']:\n",
    "    print(n, ': ', bacon_dict[n])\n",
    "    l.append(bacon_dict[n])"
   ]
  },
  {
   "cell_type": "code",
   "execution_count": 214,
   "metadata": {},
   "outputs": [
    {
     "data": {
      "text/plain": [
       "1.5776259706895543"
      ]
     },
     "execution_count": 214,
     "metadata": {},
     "output_type": "execute_result"
    }
   ],
   "source": [
    "10 / sum(l)"
   ]
  },
  {
   "cell_type": "code",
   "execution_count": null,
   "metadata": {},
   "outputs": [],
   "source": []
  }
 ],
 "metadata": {
  "kernelspec": {
   "display_name": "Python 3",
   "language": "python",
   "name": "python3"
  },
  "language_info": {
   "codemirror_mode": {
    "name": "ipython",
    "version": 3
   },
   "file_extension": ".py",
   "mimetype": "text/x-python",
   "name": "python",
   "nbconvert_exporter": "python",
   "pygments_lexer": "ipython3",
   "version": "3.7.9"
  }
 },
 "nbformat": 4,
 "nbformat_minor": 4
}
